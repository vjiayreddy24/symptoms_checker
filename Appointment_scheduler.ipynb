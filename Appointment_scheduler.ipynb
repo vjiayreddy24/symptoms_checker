{
 "cells": [
  {
   "cell_type": "code",
   "execution_count": null,
   "id": "44b48c1f-4880-4b4f-9d60-566717bc2a16",
   "metadata": {},
   "outputs": [],
   "source": []
  }
 ],
 "metadata": {
  "kernelspec": {
   "display_name": "",
   "name": ""
  },
  "language_info": {
   "name": ""
  }
 },
 "nbformat": 4,
 "nbformat_minor": 5
}
