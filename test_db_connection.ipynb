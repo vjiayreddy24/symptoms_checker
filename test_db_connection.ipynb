{
 "cells": [
  {
   "cell_type": "code",
   "execution_count": 1,
   "id": "b5723005-5e4f-480a-96b5-3bf2802b1017",
   "metadata": {},
   "outputs": [
    {
     "name": "stdout",
     "output_type": "stream",
     "text": [
      "Collecting psycopg2-binary\n",
      "  Downloading psycopg2_binary-2.9.10-cp313-cp313-win_amd64.whl.metadata (4.8 kB)\n",
      "Requirement already satisfied: sqlalchemy in c:\\users\\vreddy_quantum-i\\anaconda3\\lib\\site-packages (2.0.39)\n",
      "Requirement already satisfied: greenlet!=0.4.17 in c:\\users\\vreddy_quantum-i\\anaconda3\\lib\\site-packages (from sqlalchemy) (3.1.1)\n",
      "Requirement already satisfied: typing-extensions>=4.6.0 in c:\\users\\vreddy_quantum-i\\anaconda3\\lib\\site-packages (from sqlalchemy) (4.12.2)\n",
      "Downloading psycopg2_binary-2.9.10-cp313-cp313-win_amd64.whl (2.6 MB)\n",
      "   ---------------------------------------- 0.0/2.6 MB ? eta -:--:--\n",
      "   -------------------------------- ------- 2.1/2.6 MB 11.1 MB/s eta 0:00:01\n",
      "   ---------------------------------------- 2.6/2.6 MB 9.9 MB/s eta 0:00:00\n",
      "Installing collected packages: psycopg2-binary\n",
      "Successfully installed psycopg2-binary-2.9.10\n",
      "Note: you may need to restart the kernel to use updated packages.\n"
     ]
    }
   ],
   "source": [
    "pip install psycopg2-binary sqlalchemy"
   ]
  },
  {
   "cell_type": "code",
   "execution_count": 19,
   "id": "fc6b9448-ee4d-4dbd-bc3a-a1b2ab170cb2",
   "metadata": {},
   "outputs": [
    {
     "name": "stdout",
     "output_type": "stream",
     "text": [
      "✅ Connected to Supabase PostgreSQL!\n"
     ]
    }
   ],
   "source": [
    "import psycopg2\n",
    "\n",
    "conn = psycopg2.connect(\n",
    "    host=\"aws-1-ap-south-1.pooler.supabase.com\",\n",
    "    database=\"postgres\",\n",
    "    user=\"postgres.dijluzdqrykhbxglwltk\",   # full Supabase username\n",
    "    password=\"@@@@@Abcd@1234\",              # your actual password\n",
    "    port=6543                               # ✅ correct port for Supabase\n",
    ")\n",
    "\n",
    "cur = conn.cursor()\n",
    "print(\"✅ Connected to Supabase PostgreSQL!\")\n"
   ]
  },
  {
   "cell_type": "code",
   "execution_count": 20,
   "id": "43d2bf7b-c83f-4af4-938a-e8aef025b387",
   "metadata": {},
   "outputs": [
    {
     "name": "stdout",
     "output_type": "stream",
     "text": [
      "✅ Users table created!\n"
     ]
    }
   ],
   "source": [
    "cur.execute(\"\"\"\n",
    "    CREATE TABLE IF NOT EXISTS users (\n",
    "        user_id SERIAL PRIMARY KEY,\n",
    "        user_name VARCHAR(100),\n",
    "        phone VARCHAR(20),\n",
    "        test_taken JSONB\n",
    "    );\n",
    "\"\"\")\n",
    "conn.commit()\n",
    "print(\"✅ Users table created!\")\n"
   ]
  },
  {
   "cell_type": "code",
   "execution_count": 21,
   "id": "61a5b1ad-e7f5-49be-8eac-0aa0961f3c76",
   "metadata": {},
   "outputs": [
    {
     "name": "stdout",
     "output_type": "stream",
     "text": [
      "✅ Sample data inserted!\n"
     ]
    }
   ],
   "source": [
    "data = [\n",
    "    (1, \"John Doe\", \"9876543210\", '{\"AQ-10\": \"Moderate\", \"ASRS\": \"Severe\", \"PHQ-9\": \"Moderate\"}'),\n",
    "    (2, \"Alice Smith\", \"8765432109\", None),\n",
    "    (3, \"Bob Johnson\", \"7654321098\", '{\"AUDIT\": \"Moderate\", \"DAST\": \"Moderate\"}'),\n",
    "    (4, \"Clara Lee\", \"6543210987\", '{\"MSI-BPD\": \"Moderate\", \"EAT-26\": \"Severe\"}'),\n",
    "    (5, \"David Kim\", \"5432109876\", '{\"AQ-10\": \"Severe\", \"GAD-7\": \"Moderate\"}'),\n",
    "    (6, \"Emily Davis\", \"4321098765\", '{\"PHQ-9\": \"Severe\", \"PCL-5\": \"Moderate\", \"Mood Disorder Questionnaire\": \"Severe\"}'),\n",
    "    (7, \"Frank Miller\", \"3210987654\", '{\"AUDIT\": \"Severe\", \"DAST\": \"Moderate\", \"Y-BOCS\": \"Moderate\"}'),\n",
    "    (8, \"Grace Wilson\", \"2109876543\", '{\"ASRS\": \"Moderate\", \"MSI-BPD\": \"Severe\"}'),\n",
    "    (9, \"Henry Brown\", \"1098765432\", '{\"EAT-26\": \"Moderate\", \"Mood Disorder Questionnaire\": \"Severe\"}'),\n",
    "    (10, \"Irene Clark\", \"9988776655\", '{\"GAD-7\": \"Severe\", \"AQ-10\": \"Moderate\", \"PHQ-9\": \"Severe\"}'),\n",
    "]\n",
    "\n",
    "for row in data:\n",
    "    cur.execute(\"\"\"\n",
    "        INSERT INTO users (user_id, user_name, phone, test_taken)\n",
    "        VALUES (%s, %s, %s, %s)\n",
    "        ON CONFLICT (user_id) DO NOTHING;\n",
    "    \"\"\", row)\n",
    "\n",
    "conn.commit()\n",
    "print(\"✅ Sample data inserted!\")\n"
   ]
  },
  {
   "cell_type": "code",
   "execution_count": 22,
   "id": "cac91265-f0c8-4d60-b44b-bf9c6f7a6d5a",
   "metadata": {},
   "outputs": [
    {
     "name": "stdout",
     "output_type": "stream",
     "text": [
      "(1, 'John Doe', '9876543210', {'ASRS': 'Severe', 'AQ-10': 'Moderate', 'PHQ-9': 'Moderate'})\n",
      "(2, 'Alice Smith', '8765432109', None)\n",
      "(3, 'Bob Johnson', '7654321098', {'DAST': 'Moderate', 'AUDIT': 'Moderate'})\n",
      "(4, 'Clara Lee', '6543210987', {'EAT-26': 'Severe', 'MSI-BPD': 'Moderate'})\n",
      "(5, 'David Kim', '5432109876', {'AQ-10': 'Severe', 'GAD-7': 'Moderate'})\n",
      "(6, 'Emily Davis', '4321098765', {'PCL-5': 'Moderate', 'PHQ-9': 'Severe', 'Mood Disorder Questionnaire': 'Severe'})\n",
      "(7, 'Frank Miller', '3210987654', {'DAST': 'Moderate', 'AUDIT': 'Severe', 'Y-BOCS': 'Moderate'})\n",
      "(8, 'Grace Wilson', '2109876543', {'ASRS': 'Moderate', 'MSI-BPD': 'Severe'})\n",
      "(9, 'Henry Brown', '1098765432', {'EAT-26': 'Moderate', 'Mood Disorder Questionnaire': 'Severe'})\n",
      "(10, 'Irene Clark', '9988776655', {'AQ-10': 'Moderate', 'GAD-7': 'Severe', 'PHQ-9': 'Severe'})\n"
     ]
    }
   ],
   "source": [
    "cur.execute(\"SELECT * FROM users;\")\n",
    "rows = cur.fetchall()\n",
    "for row in rows:\n",
    "    print(row)\n"
   ]
  },
  {
   "cell_type": "code",
   "execution_count": null,
   "id": "b3798ff4-40b1-46b5-809d-fe4bfe707d99",
   "metadata": {},
   "outputs": [],
   "source": []
  }
 ],
 "metadata": {
  "kernelspec": {
   "display_name": "Python 3 (ipykernel)",
   "language": "python",
   "name": "python3"
  },
  "language_info": {
   "codemirror_mode": {
    "name": "ipython",
    "version": 3
   },
   "file_extension": ".py",
   "mimetype": "text/x-python",
   "name": "python",
   "nbconvert_exporter": "python",
   "pygments_lexer": "ipython3",
   "version": "3.13.5"
  }
 },
 "nbformat": 4,
 "nbformat_minor": 5
}
