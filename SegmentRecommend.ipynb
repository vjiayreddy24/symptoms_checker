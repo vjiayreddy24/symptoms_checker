{
  "cells": [
    {
      "cell_type": "code",
      "execution_count": 3,
      "metadata": {
        "id": "Idqv_Szih1-A"
      },
      "outputs": [],
      "source": [
        "import pandas as pd"
      ]
    },
    {
      "cell_type": "code",
      "execution_count": 4,
      "metadata": {
        "id": "pOoNHLlihpfJ"
      },
      "outputs": [],
      "source": [
        "age_segment = pd.read_csv(r\"C:\\Users\\aamreen_quantum-i\\OneDrive\\Desktop\\Symptoms_checker\\symptoms_checker\\CSV Data\\Segments\\age_group_segment.csv\")\n",
        "disorder_segment = pd.read_csv(r\"C:\\Users\\aamreen_quantum-i\\OneDrive\\Desktop\\Symptoms_checker\\symptoms_checker\\CSV Data\\Segments\\doctor_disorder_segment.csv\")\n",
        "test_segment = pd.read_csv(r\"C:\\Users\\aamreen_quantum-i\\OneDrive\\Desktop\\Symptoms_checker\\symptoms_checker\\CSV Data\\Segments\\test_segment.csv\")\n",
        "dept_segment = pd.read_csv(r\"C:\\Users\\aamreen_quantum-i\\OneDrive\\Desktop\\Symptoms_checker\\symptoms_checker\\CSV Data\\Segments\\dept_segment.csv\")"
      ]
    },
    {
      "cell_type": "code",
      "execution_count": 6,
      "metadata": {
        "colab": {
          "base_uri": "https://localhost:8080/"
        },
        "id": "HQHM5pBKnxcG",
        "outputId": "48bb420b-9108-4e1a-d482-069e330a0d0c"
      },
      "outputs": [
        {
          "name": "stdout",
          "output_type": "stream",
          "text": [
            "Age doctors: {'D015', 'D016', 'D002', 'D017', 'D006', 'D003', 'D013', 'D011', 'D001', 'D020', 'D007', 'D004', 'D018', 'D005', 'D010', 'D008', 'D012', 'D014', 'D009', 'D019'}\n",
            "Disorder doctors: {'D015', 'D016', 'D002', 'D017', 'D006', 'D003', 'D013', 'D011', 'D001', 'D020', 'D007', 'D004', 'D018', 'D005', 'D010', 'D008', 'D012', 'D014', 'D009', 'D019'}\n",
            "Test doctors: {'D015', 'D019', 'D016', 'D002', 'D017', 'D006', 'D003', 'D013', 'D011', 'D001', 'D020', 'D007', 'D004', 'D018', 'D005', 'D010', 'D008', 'D012', 'D014', 'D009'}\n",
            "Department doctors: {'D015', 'D005', 'D011', 'D016', 'D020', 'D010', 'D007', 'D008', 'D009', 'D006'}\n",
            "\n",
            "✅ Recommended doctors (common across all 4 segments): {'D015', 'D005', 'D011', 'D016', 'D020', 'D010', 'D007', 'D008', 'D009', 'D006'}\n"
          ]
        }
      ],
      "source": [
        "import ast\n",
        "\n",
        "# -----------------------\n",
        "# 1. Age → doctor list\n",
        "# -----------------------\n",
        "user_age_group = 23\n",
        "\n",
        "def get_age_segment(age: int) -> str:\n",
        "    if 2 <= age <= 4:\n",
        "        return \"2-4\"\n",
        "    elif 5 <= age <= 12:\n",
        "        return \"5-12\"\n",
        "    elif 13 <= age <= 18:\n",
        "        return \"13-18\"\n",
        "    elif 19 <= age <= 30:\n",
        "        return \"19-30\"\n",
        "    elif 31 <= age <= 45:\n",
        "        return \"31-45\"\n",
        "    elif 46 <= age <= 60:\n",
        "        return \"46-60\"\n",
        "    else:\n",
        "        return \"61+\"\n",
        "    \n",
        "user_age_segment = get_age_segment(user_age_group)\n",
        "age_doctors = age_segment.loc[age_segment[\"age_group\"] == user_age_segment, \"doctor_id\"].values[0]\n",
        "if isinstance(age_doctors, str):\n",
        "    age_doctors = ast.literal_eval(age_doctors)\n",
        "age_doctors = set(age_doctors)\n",
        "\n",
        "print(\"Age doctors:\", age_doctors)\n",
        "\n",
        "# -----------------------\n",
        "# 2. Disorder → doctor list\n",
        "# -----------------------\n",
        "user_disorder = \"Autism Spectrum Disorder (ASD)\"\n",
        "disorder_doctors = disorder_segment.loc[\n",
        "    disorder_segment[\"diagnosed_disorder\"] == user_disorder, \"doctor_id\"\n",
        "].values[0]\n",
        "\n",
        "if isinstance(disorder_doctors, str):\n",
        "    disorder_doctors = ast.literal_eval(disorder_doctors)\n",
        "disorder_doctors = set(disorder_doctors)\n",
        "\n",
        "print(\"Disorder doctors:\", disorder_doctors)\n",
        "\n",
        "# -----------------------\n",
        "# 3. Test → doctor list\n",
        "# -----------------------\n",
        "# For test_segment: directly safe with ast.literal_eval (your data is clean)\n",
        "test_segment = pd.read_csv(r\"C:\\Users\\aamreen_quantum-i\\OneDrive\\Desktop\\Symptoms_checker\\symptoms_checker\\CSV Data\\Segments\\test_segment.csv\")\n",
        "# Convert string representations into Python objects\n",
        "test_segment[\"test_combination\"] = test_segment[\"test_combination\"].apply(ast.literal_eval)\n",
        "test_segment[\"doctors\"] = test_segment[\"doctors\"].apply(ast.literal_eval)\n",
        "\n",
        "def get_doctors_for_test(user_test, test_segment):\n",
        "    matching_doctors = []\n",
        "    for _, row in test_segment.iterrows():\n",
        "        if user_test in row[\"test_combination\"]:\n",
        "            matching_doctors.extend(row[\"doctors\"])\n",
        "    return list(set(matching_doctors))  # remove duplicates\n",
        "\n",
        "user_test = \"AQ-10\"\n",
        "test_doctors = set(get_doctors_for_test(user_test, test_segment))\n",
        "\n",
        "print(\"Test doctors:\", test_doctors)\n",
        "\n",
        "# -----------------------\n",
        "# 4. Department → doctor list\n",
        "# -----------------------\n",
        "user_department = \"Psychology\"\n",
        "dept_segment[\"doctors\"] = dept_segment[\"doctors\"].apply(ast.literal_eval)\n",
        "\n",
        "dept_doctors = dept_segment.loc[\n",
        "    dept_segment[\"department\"].str.lower() == user_department.lower(), \"doctors\"\n",
        "].values[0]\n",
        "dept_doctors = set(dept_doctors)\n",
        "\n",
        "print(\"Department doctors:\", dept_doctors)\n",
        "\n",
        "# -----------------------\n",
        "# Final: Intersection\n",
        "# -----------------------\n",
        "common_doctors = age_doctors & disorder_doctors & test_doctors & dept_doctors\n",
        "print(\"\\n✅ Recommended doctors (common across all 4 segments):\", common_doctors)\n"
      ]
    },
    {
      "cell_type": "code",
      "execution_count": null,
      "metadata": {
        "id": "nhwrIEuiKqxv"
      },
      "outputs": [],
      "source": []
    }
  ],
  "metadata": {
    "colab": {
      "provenance": []
    },
    "kernelspec": {
      "display_name": "venv",
      "language": "python",
      "name": "python3"
    },
    "language_info": {
      "codemirror_mode": {
        "name": "ipython",
        "version": 3
      },
      "file_extension": ".py",
      "mimetype": "text/x-python",
      "name": "python",
      "nbconvert_exporter": "python",
      "pygments_lexer": "ipython3",
      "version": "3.11.0"
    }
  },
  "nbformat": 4,
  "nbformat_minor": 0
}
