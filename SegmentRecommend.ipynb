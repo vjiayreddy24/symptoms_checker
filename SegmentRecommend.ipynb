{
 "cells": [
  {
   "cell_type": "code",
   "execution_count": 3,
   "metadata": {
    "id": "Idqv_Szih1-A"
   },
   "outputs": [],
   "source": [
    "import pandas as pd"
   ]
  },
  {
   "cell_type": "code",
   "execution_count": 4,
   "metadata": {
    "id": "pOoNHLlihpfJ"
   },
   "outputs": [],
   "source": [
    "age_segment = pd.read_csv(r\"C:\\Users\\aamreen_quantum-i\\OneDrive\\Desktop\\Symptoms_checker\\symptoms_checker\\CSV Data\\Segments\\age_group_segment.csv\")\n",
    "disorder_segment = pd.read_csv(r\"C:\\Users\\aamreen_quantum-i\\OneDrive\\Desktop\\Symptoms_checker\\symptoms_checker\\CSV Data\\Segments\\doctor_disorder_segment.csv\")\n",
    "test_segment = pd.read_csv(r\"C:\\Users\\aamreen_quantum-i\\OneDrive\\Desktop\\Symptoms_checker\\symptoms_checker\\CSV Data\\Segments\\test_segment.csv\")\n",
    "dept_segment = pd.read_csv(r\"C:\\Users\\aamreen_quantum-i\\OneDrive\\Desktop\\Symptoms_checker\\symptoms_checker\\CSV Data\\Segments\\dept_segment.csv\")"
   ]
  },
  {
   "cell_type": "code",
   "execution_count": 6,
   "metadata": {
    "colab": {
     "base_uri": "https://localhost:8080/"
    },
    "id": "HQHM5pBKnxcG",
    "outputId": "48bb420b-9108-4e1a-d482-069e330a0d0c"
   },
   "outputs": [
    {
     "name": "stdout",
     "output_type": "stream",
     "text": [
      "Age doctors: {'D015', 'D016', 'D002', 'D017', 'D006', 'D003', 'D013', 'D011', 'D001', 'D020', 'D007', 'D004', 'D018', 'D005', 'D010', 'D008', 'D012', 'D014', 'D009', 'D019'}\n",
      "Disorder doctors: {'D015', 'D016', 'D002', 'D017', 'D006', 'D003', 'D013', 'D011', 'D001', 'D020', 'D007', 'D004', 'D018', 'D005', 'D010', 'D008', 'D012', 'D014', 'D009', 'D019'}\n",
      "Test doctors: {'D015', 'D019', 'D016', 'D002', 'D017', 'D006', 'D003', 'D013', 'D011', 'D001', 'D020', 'D007', 'D004', 'D018', 'D005', 'D010', 'D008', 'D012', 'D014', 'D009'}\n",
      "Department doctors: {'D015', 'D005', 'D011', 'D016', 'D020', 'D010', 'D007', 'D008', 'D009', 'D006'}\n",
      "\n",
      "✅ Recommended doctors (common across all 4 segments): {'D015', 'D005', 'D011', 'D016', 'D020', 'D010', 'D007', 'D008', 'D009', 'D006'}\n"
     ]
    }
   ],
   "source": [
    "import ast\n",
    "\n",
    "# -----------------------\n",
    "# 1. Age → doctor list\n",
    "# -----------------------\n",
    "user_age_group = 23\n",
    "\n",
    "def get_age_segment(age: int) -> str:\n",
    "    if 2 <= age <= 4:\n",
    "        return \"2-4\"\n",
    "    elif 5 <= age <= 12:\n",
    "        return \"5-12\"\n",
    "    elif 13 <= age <= 18:\n",
    "        return \"13-18\"\n",
    "    elif 19 <= age <= 30:\n",
    "        return \"19-30\"\n",
    "    elif 31 <= age <= 45:\n",
    "        return \"31-45\"\n",
    "    elif 46 <= age <= 60:\n",
    "        return \"46-60\"\n",
    "    else:\n",
    "        return \"61+\"\n",
    "    \n",
    "user_age_segment = get_age_segment(user_age_group)\n",
    "age_doctors = age_segment.loc[age_segment[\"age_group\"] == user_age_segment, \"doctor_id\"].values[0]\n",
    "if isinstance(age_doctors, str):\n",
    "    age_doctors = ast.literal_eval(age_doctors)\n",
    "age_doctors = set(age_doctors)\n",
    "\n",
    "print(\"Age doctors:\", age_doctors)\n",
    "\n",
    "# -----------------------\n",
    "# 2. Disorder → doctor list\n",
    "# -----------------------\n",
    "user_disorder = \"Autism Spectrum Disorder (ASD)\"\n",
    "disorder_doctors = disorder_segment.loc[\n",
    "    disorder_segment[\"diagnosed_disorder\"] == user_disorder, \"doctor_id\"\n",
    "].values[0]\n",
    "\n",
    "if isinstance(disorder_doctors, str):\n",
    "    disorder_doctors = ast.literal_eval(disorder_doctors)\n",
    "disorder_doctors = set(disorder_doctors)\n",
    "\n",
    "print(\"Disorder doctors:\", disorder_doctors)\n",
    "\n",
    "# -----------------------\n",
    "# 3. Test → doctor list\n",
    "# -----------------------\n",
    "# For test_segment: directly safe with ast.literal_eval (your data is clean)\n",
    "test_segment = pd.read_csv(r\"C:\\Users\\aamreen_quantum-i\\OneDrive\\Desktop\\Symptoms_checker\\symptoms_checker\\CSV Data\\Segments\\test_segment.csv\")\n",
    "# Convert string representations into Python objects\n",
    "test_segment[\"test_combination\"] = test_segment[\"test_combination\"].apply(ast.literal_eval)\n",
    "test_segment[\"doctors\"] = test_segment[\"doctors\"].apply(ast.literal_eval)\n",
    "\n",
    "def get_doctors_for_test(user_test, test_segment):\n",
    "    matching_doctors = []\n",
    "    for _, row in test_segment.iterrows():\n",
    "        if user_test in row[\"test_combination\"]:\n",
    "            matching_doctors.extend(row[\"doctors\"])\n",
    "    return list(set(matching_doctors))  # remove duplicates\n",
    "\n",
    "user_test = \"AQ-10\"\n",
    "test_doctors = set(get_doctors_for_test(user_test, test_segment))\n",
    "\n",
    "print(\"Test doctors:\", test_doctors)\n",
    "\n",
    "# -----------------------\n",
    "# 4. Department → doctor list\n",
    "# -----------------------\n",
    "user_department = \"Psychology\"\n",
    "dept_segment[\"doctors\"] = dept_segment[\"doctors\"].apply(ast.literal_eval)\n",
    "\n",
    "dept_doctors = dept_segment.loc[\n",
    "    dept_segment[\"department\"].str.lower() == user_department.lower(), \"doctors\"\n",
    "].values[0]\n",
    "dept_doctors = set(dept_doctors)\n",
    "\n",
    "print(\"Department doctors:\", dept_doctors)\n",
    "\n",
    "# -----------------------\n",
    "# Final: Intersection\n",
    "# -----------------------\n",
    "common_doctors = age_doctors & disorder_doctors & test_doctors & dept_doctors\n",
    "print(\"\\n✅ Recommended doctors (common across all 4 segments):\", common_doctors)\n"
   ]
  },
  {
   "cell_type": "code",
   "execution_count": 2,
   "metadata": {
    "id": "nhwrIEuiKqxv"
   },
   "outputs": [
    {
     "name": "stdout",
     "output_type": "stream",
     "text": [
      "Doctor availability on 2025-08-29:\n",
      "{'D001': 0.0, 'D002': 0.0, 'D003': 0.0, 'D004': 0.0, 'D005': 0.0, 'D006': 0.0, 'D007': 0.0, 'D008': 0.0, 'D009': 50.0, 'D010': 32.0, 'D011': 43.0, 'D012': 0.0, 'D013': 33.0, 'D014': 47.0, 'D015': 0.0, 'D016': 41.0, 'D017': 0.0, 'D018': 0.0, 'D019': 61.0, 'D020': 48.0}\n"
     ]
    }
   ],
   "source": [
    "import pandas as pd\n",
    "\n",
    "# -----------------------------\n",
    "# 1. Load CSVs\n",
    "# -----------------------------\n",
    "# Appointment load table (doctors × daily columns)\n",
    "appointments_df = pd.read_csv(r\"C:\\Users\\vreddy_quantum-i\\Desktop\\Symptom_Checker\\CSV Data\\doctor_appointment_load.csv\")\n",
    "\n",
    "# Leave table (doctor_id + leave dates)\n",
    "leaves_df = pd.read_csv(r\"C:\\Users\\vreddy_quantum-i\\Desktop\\Symptom_Checker\\CSV Data\\leavedata.csv\")\n",
    "\n",
    "# -----------------------------\n",
    "# 2. Preprocess leave dates\n",
    "# -----------------------------\n",
    "# Convert leave dates to datetime for easy comparison\n",
    "leaves_df[\"Leave_Dates\"] = pd.to_datetime(leaves_df[\"Leave_Dates\"], format=\"%d-%m-%Y\")\n",
    "\n",
    "# -----------------------------\n",
    "# 3. Function to check availability\n",
    "# -----------------------------\n",
    "def get_doctor_availability(user_date, appointments_df, leaves_df):\n",
    "    \"\"\"\n",
    "    user_date       : str in 'YYYY-MM-DD' format\n",
    "    appointments_df : wide table with dates as columns\n",
    "    leaves_df       : long table with doctor_id, leave_date\n",
    "\n",
    "    Returns: dict {doctor_id: load}\n",
    "    \"\"\"\n",
    "    # Convert input date\n",
    "    user_date = pd.to_datetime(user_date, format=\"%Y-%m-%d\")\n",
    "\n",
    "    # Step 1: find doctors on leave that day\n",
    "    doctors_on_leave = leaves_df.loc[leaves_df[\"Leave_Dates\"] == user_date, \"Doctor_ID\"].tolist()\n",
    "\n",
    "    # Step 2: get column name that matches user_date in appointment load\n",
    "    # Appointment file has columns like \"2025-08-25 (Monday)\"\n",
    "    date_str = user_date.strftime(\"%Y-%m-%d (%A)\")\n",
    "\n",
    "    if date_str not in appointments_df.columns:\n",
    "        raise ValueError(f\"Date {date_str} not found in appointment load table\")\n",
    "\n",
    "    # Step 3: filter appointment load for that date\n",
    "    result_df = appointments_df[[\"Doctor ID\", \"Doctor Name\", \"Department\", date_str]].copy()\n",
    "    result_df.rename(columns={date_str: \"Load\"}, inplace=True)\n",
    "\n",
    "    # Step 4: remove doctors on leave\n",
    "    result_df = result_df[~result_df[\"Doctor ID\"].isin(doctors_on_leave)]\n",
    "\n",
    "    # Step 5: convert \"Leave\" text to 0 load\n",
    "    result_df[\"Load\"] = pd.to_numeric(result_df[\"Load\"], errors=\"coerce\").fillna(0)\n",
    "\n",
    "    # Step 6: return dictionary\n",
    "    return dict(zip(result_df[\"Doctor ID\"], result_df[\"Load\"]))\n",
    "\n",
    "# -----------------------------\n",
    "# 4. Example usage\n",
    "# -----------------------------\n",
    "user_date = \"2025-08-29\"  # Friday\n",
    "availability = get_doctor_availability(user_date, appointments_df, leaves_df)\n",
    "\n",
    "print(f\"Doctor availability on {user_date}:\")\n",
    "print(availability)\n"
   ]
  },
  {
   "cell_type": "code",
   "execution_count": null,
   "metadata": {},
   "outputs": [],
   "source": []
  }
 ],
 "metadata": {
  "colab": {
   "provenance": []
  },
  "kernelspec": {
   "display_name": "Python 3 (ipykernel)",
   "language": "python",
   "name": "python3"
  },
  "language_info": {
   "codemirror_mode": {
    "name": "ipython",
    "version": 3
   },
   "file_extension": ".py",
   "mimetype": "text/x-python",
   "name": "python",
   "nbconvert_exporter": "python",
   "pygments_lexer": "ipython3",
   "version": "3.13.5"
  }
 },
 "nbformat": 4,
 "nbformat_minor": 4
}
